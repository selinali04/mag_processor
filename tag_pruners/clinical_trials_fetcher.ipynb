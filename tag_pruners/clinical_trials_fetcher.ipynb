{
 "cells": [
  {
   "cell_type": "code",
   "execution_count": 10,
   "id": "a46d037a",
   "metadata": {},
   "outputs": [],
   "source": [
    "import requests, json\n",
    "\n",
    "clinicalTrials = {}\n",
    "def fetch_data(scientists):\n",
    "    for scientist in scientists:\n",
    "        name = scientist.replace(' ', '+')\n",
    "        query = f\"https://classic.clinicaltrials.gov/api/query/study_fields?expr={name}&fields=OfficialTitle%2CBriefSummary&min_rnk=1&max_rnk=&fmt=json\"\n",
    "        \n",
    "        results = requests.get(query).json()[\"StudyFieldsResponse\"]\n",
    "        clinicalTrials[name] = results.get(\"StudyFields\", None) \n",
    "    \n",
    "    with open('clinicalTrials.json', 'w') as f:\n",
    "        json.dump(clinicalTrials, f, indent=4)"
   ]
  },
  {
   "cell_type": "code",
   "execution_count": 11,
   "id": "76e243ea",
   "metadata": {},
   "outputs": [],
   "source": [
    "scientists = [\n",
    "\"Syamal Datta\",\n",
    "\"Nancy Lane\",\n",
    "\"Jerrold Olefsky\",\n",
    "\"Jose Caro\",\n",
    "\"Simon Mallal\",\n",
    "\"Bonnie Ramsey\",\n",
    "\"Henry Wagner Jr.\",\n",
    "\"Darryl Zeldin\",\n",
    "\"Katherine Nathanson\",\n",
    "\"William Parmley\"]\n",
    "\n",
    "fetch_data(scientists)"
   ]
  },
  {
   "cell_type": "code",
   "execution_count": null,
   "id": "91661330",
   "metadata": {},
   "outputs": [],
   "source": []
  }
 ],
 "metadata": {
  "kernelspec": {
   "display_name": "Python 3 (ipykernel)",
   "language": "python",
   "name": "python3"
  },
  "language_info": {
   "codemirror_mode": {
    "name": "ipython",
    "version": 3
   },
   "file_extension": ".py",
   "mimetype": "text/x-python",
   "name": "python",
   "nbconvert_exporter": "python",
   "pygments_lexer": "ipython3",
   "version": "3.9.16"
  }
 },
 "nbformat": 4,
 "nbformat_minor": 5
}
