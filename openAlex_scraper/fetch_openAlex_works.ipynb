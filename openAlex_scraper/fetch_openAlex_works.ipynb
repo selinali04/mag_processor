{
 "cells": [
  {
   "cell_type": "code",
   "execution_count": 37,
   "id": "38d7dae8",
   "metadata": {},
   "outputs": [],
   "source": [
    "import requests\n",
    "import json\n",
    "from nameparser import HumanName"
   ]
  },
  {
   "cell_type": "code",
   "execution_count": 63,
   "id": "c49872e1",
   "metadata": {},
   "outputs": [],
   "source": [
    "# Specify the path to your JSON file\n",
    "id_path = 'openALex_final_ids.json'\n",
    "\n",
    "# Initialize an empty dictionary\n",
    "id_dictionary = {}\n",
    "\n",
    "try:\n",
    "    # Open the JSON file in read mode\n",
    "    with open(id_path, 'r') as json_file:\n",
    "        # Load the JSON data into the dictionary\n",
    "        id_dictionary = json.load(json_file)\n",
    "except FileNotFoundError:\n",
    "    print(\"JSON file not found.\")\n",
    "except json.JSONDecodeError:\n",
    "    print(\"Error decoding JSON data.\")"
   ]
  },
  {
   "cell_type": "code",
   "execution_count": 64,
   "id": "0b1331bd",
   "metadata": {},
   "outputs": [],
   "source": [
    "def clean(author):\n",
    "    name = HumanName(author[\"author\"][\"display_name\"])\n",
    "    result = {\n",
    "    \"id\": author[\"author\"][\"id\"][21:],\n",
    "    \"name_first\": name.first or None,\n",
    "    \"name_middle\": name.middle or None,\n",
    "    \"name_last\": name.last or None,\n",
    "    \"position\": author[\"author_position\"]\n",
    "    }\n",
    "    return result\n",
    "\n",
    "def get_dictionary(work):\n",
    "    for key in [\"apc_list\", \"apc_paid\", \"is_retracted\", \"best_oa_location\", \"biblio\", \"corresponding_author_ids\", \"corresponding_institution_ids\", \"doi\", \"is_paratext\", \"locations\", \"locations_count\", \"open_access\", \"primary_location\", \"type_crossref\", \"sustainable_development_goals\", \"display_name\", \"institutions_distinct_count\",\"is_authors_truncated\"]:\n",
    "        if key in work:\n",
    "            work.pop(key)\n",
    "    \n",
    "    for index, author in enumerate(work[\"authorships\"]):\n",
    "        work[\"authorships\"][index] = clean(author)\n",
    "    \n",
    "    work[\"api\"] = \"openAlex\"\n",
    "    work[\"id\"] = work[\"id\"][21:]\n",
    "    work[\"cited_count\"] = work.pop(\"referenced_works_count\")\n",
    "    work[\"cited\"] = work.pop(\"referenced_works\")\n",
    "    work[\"year\"] = work.pop(\"publication_year\")\n",
    "    work[\"created_date\"] = work.pop(\"publication_date\")\n",
    "    \n",
    "    return "
   ]
  },
  {
   "cell_type": "code",
   "execution_count": 65,
   "id": "f6b00789",
   "metadata": {},
   "outputs": [
    {
     "name": "stdout",
     "output_type": "stream",
     "text": [
      "Kjersti Aagaard A5055697102 done\n",
      "Kjersti Aagaard A5010484685 done\n",
      "Kjersti Aagaard A5064937434 done\n",
      "Kjersti Aagaard A5008439203 done\n",
      "Kjersti Aagaard A5020848526 done\n",
      "Kjersti Aagaard A5046005597 done\n",
      "Kjersti Aagaard A5052104610 done\n",
      "Derek Abbott A5040978000 done\n",
      "Derek Abbott A5005464828 done\n",
      "Derek Abbott A5040954883 done\n",
      "Derek Abbott A5044615319 done\n",
      "Derek Abbott A5091173801 done\n",
      "Derek Abbott A5030062794 done\n",
      "Derek Abbott A5001390355 done\n",
      "Derek Abbott A5087134693 done\n",
      "Derek Abbott A5036875759 done\n",
      "Derek Abbott A5037865504 done\n",
      "Derek Abbott A5084906965 done\n"
     ]
    },
    {
     "ename": "KeyboardInterrupt",
     "evalue": "",
     "output_type": "error",
     "traceback": [
      "\u001b[0;31m---------------------------------------------------------------------------\u001b[0m",
      "\u001b[0;31mKeyboardInterrupt\u001b[0m                         Traceback (most recent call last)",
      "Cell \u001b[0;32mIn[65], line 19\u001b[0m\n\u001b[1;32m     16\u001b[0m works \u001b[38;5;241m=\u001b[39m response\u001b[38;5;241m.\u001b[39mjson()[\u001b[38;5;124m\"\u001b[39m\u001b[38;5;124mresults\u001b[39m\u001b[38;5;124m\"\u001b[39m]\n\u001b[1;32m     18\u001b[0m \u001b[38;5;28;01mfor\u001b[39;00m work \u001b[38;5;129;01min\u001b[39;00m works:\n\u001b[0;32m---> 19\u001b[0m     \u001b[43mget_dictionary\u001b[49m\u001b[43m(\u001b[49m\u001b[43mwork\u001b[49m\u001b[43m)\u001b[49m\n\u001b[1;32m     21\u001b[0m     \u001b[38;5;28;01mif\u001b[39;00m work[\u001b[38;5;124m\"\u001b[39m\u001b[38;5;124mid\u001b[39m\u001b[38;5;124m\"\u001b[39m] \u001b[38;5;129;01mnot\u001b[39;00m \u001b[38;5;129;01min\u001b[39;00m works_dictionary:\n\u001b[1;32m     22\u001b[0m         works_dictionary[work[\u001b[38;5;124m\"\u001b[39m\u001b[38;5;124mid\u001b[39m\u001b[38;5;124m\"\u001b[39m]] \u001b[38;5;241m=\u001b[39m work\n",
      "Cell \u001b[0;32mIn[64], line 18\u001b[0m, in \u001b[0;36mget_dictionary\u001b[0;34m(work)\u001b[0m\n\u001b[1;32m     15\u001b[0m         work\u001b[38;5;241m.\u001b[39mpop(key)\n\u001b[1;32m     17\u001b[0m \u001b[38;5;28;01mfor\u001b[39;00m index, author \u001b[38;5;129;01min\u001b[39;00m \u001b[38;5;28menumerate\u001b[39m(work[\u001b[38;5;124m\"\u001b[39m\u001b[38;5;124mauthorships\u001b[39m\u001b[38;5;124m\"\u001b[39m]):\n\u001b[0;32m---> 18\u001b[0m     work[\u001b[38;5;124m\"\u001b[39m\u001b[38;5;124mauthorships\u001b[39m\u001b[38;5;124m\"\u001b[39m][index] \u001b[38;5;241m=\u001b[39m \u001b[43mclean\u001b[49m\u001b[43m(\u001b[49m\u001b[43mauthor\u001b[49m\u001b[43m)\u001b[49m\n\u001b[1;32m     20\u001b[0m work[\u001b[38;5;124m\"\u001b[39m\u001b[38;5;124mapi\u001b[39m\u001b[38;5;124m\"\u001b[39m] \u001b[38;5;241m=\u001b[39m \u001b[38;5;124m\"\u001b[39m\u001b[38;5;124mopenAlex\u001b[39m\u001b[38;5;124m\"\u001b[39m\n\u001b[1;32m     21\u001b[0m work[\u001b[38;5;124m\"\u001b[39m\u001b[38;5;124mid\u001b[39m\u001b[38;5;124m\"\u001b[39m] \u001b[38;5;241m=\u001b[39m work[\u001b[38;5;124m\"\u001b[39m\u001b[38;5;124mid\u001b[39m\u001b[38;5;124m\"\u001b[39m][\u001b[38;5;241m21\u001b[39m:]\n",
      "Cell \u001b[0;32mIn[64], line 2\u001b[0m, in \u001b[0;36mclean\u001b[0;34m(author)\u001b[0m\n\u001b[1;32m      1\u001b[0m \u001b[38;5;28;01mdef\u001b[39;00m \u001b[38;5;21mclean\u001b[39m(author):\n\u001b[0;32m----> 2\u001b[0m     name \u001b[38;5;241m=\u001b[39m \u001b[43mHumanName\u001b[49m\u001b[43m(\u001b[49m\u001b[43mauthor\u001b[49m\u001b[43m[\u001b[49m\u001b[38;5;124;43m\"\u001b[39;49m\u001b[38;5;124;43mauthor\u001b[39;49m\u001b[38;5;124;43m\"\u001b[39;49m\u001b[43m]\u001b[49m\u001b[43m[\u001b[49m\u001b[38;5;124;43m\"\u001b[39;49m\u001b[38;5;124;43mdisplay_name\u001b[39;49m\u001b[38;5;124;43m\"\u001b[39;49m\u001b[43m]\u001b[49m\u001b[43m)\u001b[49m\n\u001b[1;32m      3\u001b[0m     result \u001b[38;5;241m=\u001b[39m {\n\u001b[1;32m      4\u001b[0m     \u001b[38;5;124m\"\u001b[39m\u001b[38;5;124mid\u001b[39m\u001b[38;5;124m\"\u001b[39m: author[\u001b[38;5;124m\"\u001b[39m\u001b[38;5;124mauthor\u001b[39m\u001b[38;5;124m\"\u001b[39m][\u001b[38;5;124m\"\u001b[39m\u001b[38;5;124mid\u001b[39m\u001b[38;5;124m\"\u001b[39m][\u001b[38;5;241m21\u001b[39m:],\n\u001b[1;32m      5\u001b[0m     \u001b[38;5;124m\"\u001b[39m\u001b[38;5;124mname_first\u001b[39m\u001b[38;5;124m\"\u001b[39m: name\u001b[38;5;241m.\u001b[39mfirst \u001b[38;5;129;01mor\u001b[39;00m \u001b[38;5;28;01mNone\u001b[39;00m,\n\u001b[0;32m   (...)\u001b[0m\n\u001b[1;32m      8\u001b[0m     \u001b[38;5;124m\"\u001b[39m\u001b[38;5;124mposition\u001b[39m\u001b[38;5;124m\"\u001b[39m: author[\u001b[38;5;124m\"\u001b[39m\u001b[38;5;124mauthor_position\u001b[39m\u001b[38;5;124m\"\u001b[39m]\n\u001b[1;32m      9\u001b[0m     }\n\u001b[1;32m     10\u001b[0m     \u001b[38;5;28;01mreturn\u001b[39;00m result\n",
      "File \u001b[0;32m~/opt/anaconda3/lib/python3.9/site-packages/nameparser/parser.py:110\u001b[0m, in \u001b[0;36mHumanName.__init__\u001b[0;34m(self, full_name, constants, encoding, string_format, initials_format, initials_delimiter, first, middle, last, title, suffix, nickname)\u001b[0m\n\u001b[1;32m    107\u001b[0m     \u001b[38;5;28mself\u001b[39m\u001b[38;5;241m.\u001b[39munparsable \u001b[38;5;241m=\u001b[39m \u001b[38;5;28;01mFalse\u001b[39;00m\n\u001b[1;32m    108\u001b[0m \u001b[38;5;28;01melse\u001b[39;00m:\n\u001b[1;32m    109\u001b[0m     \u001b[38;5;66;03m# full_name setter triggers the parse\u001b[39;00m\n\u001b[0;32m--> 110\u001b[0m     \u001b[38;5;28mself\u001b[39m\u001b[38;5;241m.\u001b[39mfull_name \u001b[38;5;241m=\u001b[39m full_name\n",
      "File \u001b[0;32m~/opt/anaconda3/lib/python3.9/site-packages/nameparser/parser.py:486\u001b[0m, in \u001b[0;36mHumanName.full_name\u001b[0;34m(self, value)\u001b[0m\n\u001b[1;32m    484\u001b[0m \u001b[38;5;28;01mif\u001b[39;00m \u001b[38;5;28misinstance\u001b[39m(value, binary_type):\n\u001b[1;32m    485\u001b[0m     \u001b[38;5;28mself\u001b[39m\u001b[38;5;241m.\u001b[39m_full_name \u001b[38;5;241m=\u001b[39m value\u001b[38;5;241m.\u001b[39mdecode(\u001b[38;5;28mself\u001b[39m\u001b[38;5;241m.\u001b[39mencoding)\n\u001b[0;32m--> 486\u001b[0m \u001b[38;5;28;43mself\u001b[39;49m\u001b[38;5;241;43m.\u001b[39;49m\u001b[43mparse_full_name\u001b[49m\u001b[43m(\u001b[49m\u001b[43m)\u001b[49m\n",
      "File \u001b[0;32m~/opt/anaconda3/lib/python3.9/site-packages/nameparser/parser.py:725\u001b[0m, in \u001b[0;36mHumanName.parse_full_name\u001b[0;34m(self)\u001b[0m\n\u001b[1;32m    722\u001b[0m         \u001b[38;5;28;01mexcept\u001b[39;00m \u001b[38;5;167;01mIndexError\u001b[39;00m:\n\u001b[1;32m    723\u001b[0m             \u001b[38;5;28;01mpass\u001b[39;00m\n\u001b[0;32m--> 725\u001b[0m \u001b[38;5;28;01mif\u001b[39;00m \u001b[38;5;28;43mlen\u001b[39;49m\u001b[43m(\u001b[49m\u001b[38;5;28;43mself\u001b[39;49m\u001b[43m)\u001b[49m \u001b[38;5;241m<\u001b[39m \u001b[38;5;241m0\u001b[39m:\n\u001b[1;32m    726\u001b[0m     log\u001b[38;5;241m.\u001b[39minfo(\u001b[38;5;124m\"\u001b[39m\u001b[38;5;124mUnparsable: \u001b[39m\u001b[38;5;130;01m\\\"\u001b[39;00m\u001b[38;5;132;01m%s\u001b[39;00m\u001b[38;5;130;01m\\\"\u001b[39;00m\u001b[38;5;124m \u001b[39m\u001b[38;5;124m\"\u001b[39m, \u001b[38;5;28mself\u001b[39m\u001b[38;5;241m.\u001b[39moriginal)\n\u001b[1;32m    727\u001b[0m \u001b[38;5;28;01melse\u001b[39;00m:\n",
      "File \u001b[0;32m~/opt/anaconda3/lib/python3.9/site-packages/nameparser/parser.py:115\u001b[0m, in \u001b[0;36mHumanName.__len__\u001b[0;34m(self)\u001b[0m\n\u001b[1;32m    112\u001b[0m \u001b[38;5;28;01mdef\u001b[39;00m \u001b[38;5;21m__iter__\u001b[39m(\u001b[38;5;28mself\u001b[39m):\n\u001b[1;32m    113\u001b[0m     \u001b[38;5;28;01mreturn\u001b[39;00m \u001b[38;5;28mself\u001b[39m\n\u001b[0;32m--> 115\u001b[0m \u001b[38;5;28;01mdef\u001b[39;00m \u001b[38;5;21m__len__\u001b[39m(\u001b[38;5;28mself\u001b[39m):\n\u001b[1;32m    116\u001b[0m     l \u001b[38;5;241m=\u001b[39m \u001b[38;5;241m0\u001b[39m\n\u001b[1;32m    117\u001b[0m     \u001b[38;5;28;01mfor\u001b[39;00m x \u001b[38;5;129;01min\u001b[39;00m \u001b[38;5;28mself\u001b[39m:\n",
      "\u001b[0;31mKeyboardInterrupt\u001b[0m: "
     ]
    }
   ],
   "source": [
    "# Initialize a dictionary to store the queried IDs for each physician-scientist\n",
    "works_dictionary = {}\n",
    "# Initialize a set to store the failed queries\n",
    "failed_queries = set()\n",
    "\n",
    "for display_name in id_dictionary:\n",
    "    \n",
    "    for individual_id in id_dictionary[display_name]:\n",
    "        cursor = \"*\"  \n",
    "        while True:\n",
    "            query_work = f'https://api.openalex.org/works?filter=author.id:{individual_id}&per_page=100&cursor={cursor}'\n",
    "            try:\n",
    "                response = requests.get(query_work)\n",
    "\n",
    "                if response.status_code == 200:\n",
    "                    works = response.json()[\"results\"]\n",
    "\n",
    "                    for work in works:\n",
    "                        get_dictionary(work)\n",
    "                        \n",
    "                        if work[\"id\"] not in works_dictionary:\n",
    "                            works_dictionary[work[\"id\"]] = work\n",
    "                \n",
    "                if not works:\n",
    "                    break\n",
    "\n",
    "                # Update the query parameters with the next `cursor` value\n",
    "                cursor = response.json()[\"meta\"][\"next_cursor\"]\n",
    "\n",
    "            except Exception as e:\n",
    "                print(e)\n",
    "                failed_queries.add((individual_id, cursor))\n",
    "                break\n",
    "\n",
    "        print(display_name + \" \" + individual_id + \" done\")\n",
    "\n",
    "print(f\"Failed queries: {failed_queries}\")\n"
   ]
  },
  {
   "cell_type": "code",
   "execution_count": 66,
   "id": "d15227ac",
   "metadata": {},
   "outputs": [],
   "source": [
    "with open(\"openAlex_final_works.json\", \"w\") as f:\n",
    "    json.dump(works_dictionary, f, indent=4)\n",
    "\n",
    "with open(\"openAlex_failed_work_queries.json\", \"w\") as f:\n",
    "    json.dump(list(failed_queries), f, indent=4)\n"
   ]
  },
  {
   "cell_type": "code",
   "execution_count": null,
   "id": "914514a6",
   "metadata": {},
   "outputs": [],
   "source": []
  }
 ],
 "metadata": {
  "kernelspec": {
   "display_name": "Python 3 (ipykernel)",
   "language": "python",
   "name": "python3"
  },
  "language_info": {
   "codemirror_mode": {
    "name": "ipython",
    "version": 3
   },
   "file_extension": ".py",
   "mimetype": "text/x-python",
   "name": "python",
   "nbconvert_exporter": "python",
   "pygments_lexer": "ipython3",
   "version": "3.9.16"
  }
 },
 "nbformat": 4,
 "nbformat_minor": 5
}
