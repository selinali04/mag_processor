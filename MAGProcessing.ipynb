{
 "cells": [
  {
   "cell_type": "code",
   "execution_count": 11,
   "id": "8c5be023",
   "metadata": {},
   "outputs": [],
   "source": [
    "# import statements\n",
    "import pprint\n",
    "from rdflib import Graph, Namespace, URIRef"
   ]
  },
  {
   "cell_type": "code",
   "execution_count": 3,
   "id": "21fcbcb2",
   "metadata": {},
   "outputs": [
    {
     "data": {
      "text/plain": [
       "<Graph identifier=N5e395b149fee41398dbd80a17373c020 (<class 'rdflib.graph.Graph'>)>"
      ]
     },
     "execution_count": 3,
     "metadata": {},
     "output_type": "execute_result"
    }
   ],
   "source": [
    "FoS = Graph()\n",
    "FoS.parse(\"FoS_s.nt\")"
   ]
  },
  {
   "cell_type": "code",
   "execution_count": 58,
   "id": "ce910de2",
   "metadata": {},
   "outputs": [
    {
     "data": {
      "text/plain": [
       "<Graph identifier=Ncf4a68a352ff48aea926ee476f429c7a (<class 'rdflib.graph.Graph'>)>"
      ]
     },
     "execution_count": 58,
     "metadata": {},
     "output_type": "execute_result"
    }
   ],
   "source": [
    "papersAbs = Graph()\n",
    "papersAbs.parse(\"PaperAbstracts_s.nt\", format=\"turtle\")"
   ]
  },
  {
   "cell_type": "code",
   "execution_count": 37,
   "id": "dfa5e0c6",
   "metadata": {},
   "outputs": [
    {
     "data": {
      "text/plain": [
       "<Graph identifier=Nc885275d4bb24ac6b2fd9c4cb53282e0 (<class 'rdflib.graph.Graph'>)>"
      ]
     },
     "execution_count": 37,
     "metadata": {},
     "output_type": "execute_result"
    }
   ],
   "source": [
    "papers = Graph()\n",
    "papers.parse(\"Papers_s.nt\", format=\"turtle\")"
   ]
  },
  {
   "cell_type": "code",
   "execution_count": 6,
   "id": "90e5ca3a",
   "metadata": {},
   "outputs": [
    {
     "data": {
      "text/plain": [
       "<Graph identifier=N54634bcbfdaf4452974cbf0ac5cd4f41 (<class 'rdflib.graph.Graph'>)>"
      ]
     },
     "execution_count": 6,
     "metadata": {},
     "output_type": "execute_result"
    }
   ],
   "source": [
    "papersFoS = Graph()\n",
    "papersFoS.parse(\"PaperFoS_s.nt\", format=\"turtle\")"
   ]
  },
  {
   "cell_type": "code",
   "execution_count": 15,
   "id": "f95613a8",
   "metadata": {},
   "outputs": [
    {
     "data": {
      "text/plain": [
       "<Graph identifier=N0caa6b2bf9f94cd3bc72297bbed1d726 (<class 'rdflib.graph.Graph'>)>"
      ]
     },
     "execution_count": 15,
     "metadata": {},
     "output_type": "execute_result"
    }
   ],
   "source": [
    "journals = Graph()\n",
    "journals.parse(\"Journals_s.nt\", format=\"turtle\")"
   ]
  },
  {
   "cell_type": "code",
   "execution_count": 87,
   "id": "579cd0f7",
   "metadata": {},
   "outputs": [],
   "source": [
    "# Get the unique paper URIs with the prefix 'http://mag.graph/entity/' (up to 10,000)\n",
    "paper_uris = set()\n",
    "counter = 0\n",
    "for s in papers.subjects(predicate=None, object=None):\n",
    "    if str(s).startswith('http://mag.graph/entity/'):\n",
    "        paper_uris.add(str(s))\n",
    "        counter += 1\n",
    "        if counter >= 10000:\n",
    "            break"
   ]
  },
  {
   "cell_type": "code",
   "execution_count": 104,
   "id": "89e844fa",
   "metadata": {},
   "outputs": [],
   "source": [
    "# Define the desired paper predicates\n",
    "predicates = [\n",
    "    URIRef('http://www.w3.org/1999/02/22-rdf-syntax-ns#type'),  # Paper type\n",
    "    URIRef('http://purl.org/dc/terms/title'),  # Paper title\n",
    "    URIRef('http://mag.graph/property/appearsInJournal'),  # Journal appearance\n",
    "]\n",
    "\n",
    "# Create a dictionary to store all paper information\n",
    "papers_result = {}\n",
    "\n",
    "for paper in paper_uris:\n",
    "    # Create a dictionary to store each result\n",
    "    values = {}\n",
    "    for predicate in predicates:\n",
    "        result = list(papers.objects(subject=URIRef(paper), predicate=predicate))\n",
    "        \n",
    "        if result:\n",
    "            # If in journal, query for journal name\n",
    "            if predicate == URIRef('http://mag.graph/property/appearsInJournal'):\n",
    "                result = list(journals.objects(subject=URIRef(paper), predicate=URIRef('http://xmlns.com/foaf/0.1/name')))\n",
    "            \n",
    "            values[str(predicate)] = str(result[0])\n",
    "            \n",
    "    papers_result[paper] = values\n",
    "    \n",
    "    # Query for abstract of paper\n",
    "    abstract = list(papersAbs.objects(subject=URIRef(paper)))\n",
    "    if abstract:\n",
    "        papers_result[paper]['abstract'] = str(abstract[0])\n",
    "        \n",
    "    # Query for disciplines\n",
    "    disciplines_results = list(papersFoS.objects(subject=URIRef(paper), predicate=URIRef('http://purl.org/spar/fabio/hasDiscipline')))\n",
    "    disciplines = {}\n",
    "    for discipline in disciplines_results:\n",
    "        disciplines.add(list(FoS.objects(subject=discipline, predicate=URIRef('http://xmlns.com/foaf/0.1/name')))[0])\n",
    "    \n",
    "    if disciplines:\n",
    "        papers_result[paper]['concept_tags'] = str(abstract[0])\n"
   ]
  },
  {
   "cell_type": "code",
   "execution_count": 105,
   "id": "681bd5b6",
   "metadata": {},
   "outputs": [
    {
     "name": "stdout",
     "output_type": "stream",
     "text": [
      "{'title': 'The Distinctive Feature of Weak Interactions and Some of Its Subsequences (Impossibility of Generation of Masses and Absence of the MSW Effect', 'doc_type': 'http://mag.graph/class/Paper', 'journal': 'http://mag.graph/entity/2596664605', 'abstract': 'In the Quantum theory the wave functions form a full and orthonormalized functional space. For this reason we can use the equation on eigenfunctions and eigenstates and find the eigenenergies $E_n$ and eigenfunctions $Psi_n$ to determine the physical characteristics of the considered systems (or models). In the Quantum theory the observed values are the average value of operators. Since the wave functions create a full and orthonormalized space, the average values of operators coincide with eigenvalues of operators. This situation takes place in the case of strong and electromagnetic interactions. However, the average values of the weak interaction operators are equal to zero since only the left-handed components of spinors participate in the weak interactions. It means that in these interactions the connected states cannot exist. Then the weak interaction of the particles (scatterings, decays) can be considered only in the framework of the standard perturbative approach. It is shown that the weak interactions cannot generate masses and the equation for Green&#039;s function of the weak interacting fermions (neutrinos) in the matter coincides with the equation for Green&#039;s function of fermions in vacuum. And in the result we come to a conclusion: the mechanism of resonance enhancement of neutrino oscillations in matter (i.e. MSW effect) cannot exist.', 'inverted_abstract': False}\n",
      "{'title': 'IMAGE PROCESSING DEVICE HAVING DEPTH MAP GENERATING UNIT, IMAGE PROCESSING METHOD AND NON-TRANSITORY COMPUTER READABLE RECORDING MEDIUM', 'doc_type': 'http://mag.graph/class/Paper', 'journal': None, 'abstract': None, 'inverted_abstract': False}\n",
      "{'title': '142) Formycin B &#x306E;&#x30BF;&#x30D0;&#x30B3;&#x30E2;&#x30B6;&#x30A4;&#x30AF;&#x30A6;&#x30A4;&#x30EB;&#x30B9;&#x306B;&#x5BFE;&#x3059;&#x308B;&#x4F5C;&#x7528; (&#x30A6;&#x30A4;&#x30EB;&#x30B9;&#x75C5;(&#x662D;&#x548C;43&#x5E74;&#x5EA6;&#x65E5;&#x672C;&#x690D;&#x7269;&#x75C5;&#x7406;&#x5B66;&#x4F1A;&#x5927;&#x4F1A;&#x8B1B;&#x6F14;&#x8981;&#x65E8;))', 'doc_type': 'http://mag.graph/class/Paper', 'journal': None, 'abstract': None, 'inverted_abstract': False}\n",
      "{'title': 'Do You Believe in Fairies?: The Hiss of Dramatic License', 'doc_type': 'http://mag.graph/class/Paper', 'journal': 'http://mag.graph/entity/28278612', 'abstract': 'When Peter Pan asks audiences to affirm their belief in fairies in order to revive Tinker Bell, this can be interpreted as an affirmation of the willing suspension of disbelief thought to be an essential condition of theatrical spectating. However, closer analysis of the original 1904 production of Peter Pan, including its variation from conventional pantomime, reveals the intertext of two contemporaneous debates in ethnology: the idea that the last of the fairy folk were departing from Britain, and the more empirical observation that gypsy-tinkers were losing their rural way of life. This reveals Peter Pan&#039;s query as a reflection about the status of oppressed groups, and thus less an affirmation of innocence than a referendum on the desirability of modernity. This case study is postulated as an example of dramatic license&#x2014;a previously under-theorized concept&#x2014;proposing this as a term with specific referentiality to the theatrical medium, in which a mimetic, intellectual, and ideological problem is explicitly placed before an audience in order to elicit a response.', 'inverted_abstract': False}\n",
      "{'title': 'The role of St. Roch as a plague saint : a late medieval hagiographic tradition', 'doc_type': 'http://mag.graph/class/Paper', 'journal': None, 'abstract': None, 'inverted_abstract': False}\n",
      "{'title': 'Vocoder system using multiple port routing to communicate and its business frame exchanging method', 'doc_type': 'http://mag.graph/class/Paper', 'journal': None, 'abstract': None, 'inverted_abstract': False}\n",
      "{'title': 'METHOD FOR MEASURING DIRECTION ERROR OF GIMBAL PLATFORM AND APPARATUS THEREOF', 'doc_type': 'http://mag.graph/class/Paper', 'journal': None, 'abstract': None, 'inverted_abstract': False}\n",
      "{'title': 'K&#x0131;sa S&#x00FC;reli PRID Uygulanan D&#x00FC;velerde Baz&#x0131; Oksidatif Stres Parametrelerinin De&#x011F;erlendirilmesi', 'doc_type': 'http://mag.graph/class/Paper', 'journal': 'http://mag.graph/entity/1014464595', 'abstract': None, 'inverted_abstract': False}\n",
      "{'title': 'Reduction of bony periodontal pockets with hydroxyapatite', 'doc_type': 'http://mag.graph/class/Paper', 'journal': None, 'abstract': None, 'inverted_abstract': False}\n",
      "{'title': 'Treatment optimization in metastatic renal cell carcinoma', 'doc_type': 'http://mag.graph/class/Paper', 'journal': 'http://mag.graph/entity/19864348', 'abstract': None, 'inverted_abstract': False}\n",
      "{'title': '&#x8FB2;&#x7523;&#x7269;&#x306E;&#x51B7;&#x5374;&#x901F;&#x5EA6; (&#x7B2C;1&#x5831;):&#x308F;&#x304C;&#x56FD;&#x306E;&#x8FB2;&#x7523;&#x7269;&#x306B;&#x95A2;&#x3059;&#x308B;&#x8A66;&#x884C;&#x7684;&#x5B9F;&#x9A13;', 'doc_type': 'http://mag.graph/class/Paper', 'journal': None, 'abstract': None, 'inverted_abstract': False}\n",
      "{'title': 'Future of Heterostructure Microelectronics and Roles of Materials Research for Its Progress', 'doc_type': 'http://mag.graph/class/Paper', 'journal': 'http://mag.graph/entity/2489501747', 'abstract': None, 'inverted_abstract': False}\n",
      "{'title': 'Practical Rationality: A Response', 'doc_type': 'http://mag.graph/class/Paper', 'journal': 'http://mag.graph/entity/204374153', 'abstract': None, 'inverted_abstract': False}\n",
      "{'title': 'Rela&#x00E7;&#x00E3;o entre as proje&#x00E7;&#x00F5;es e recomenda&#x00E7;&#x00F5;es dos analistas de a&#x00E7;&#x00F5;es e o comportamento dos gestores de fundos', 'doc_type': 'http://mag.graph/class/Paper', 'journal': None, 'abstract': None, 'inverted_abstract': False}\n",
      "{'title': 'Object imagery and object identification: object imagers are better at identifying spatially-filtered visual objects.', 'doc_type': 'http://mag.graph/class/Paper', 'journal': 'http://mag.graph/entity/99753134', 'abstract': None, 'inverted_abstract': False}\n",
      "{'title': '78 Immunohistochemical analysis of Tcells and macrophages in first trimester human decidua.', 'doc_type': 'http://mag.graph/class/Paper', 'journal': None, 'abstract': None, 'inverted_abstract': False}\n",
      "{'title': 'LIFE-BELT-JACKET', 'doc_type': 'http://mag.graph/class/Paper', 'journal': None, 'abstract': None, 'inverted_abstract': False}\n",
      "{'title': 'The Hume Literature, 1994', 'doc_type': 'http://mag.graph/class/Paper', 'journal': 'http://mag.graph/entity/154562576', 'abstract': None, 'inverted_abstract': False}\n",
      "{'title': 'RECORDER FOR REPEATEDLY AND CIRCULATORILY RECORDING IMAGES AND SOUNDS USING SEMI-CONDUCTOR MEMORY', 'doc_type': 'http://mag.graph/class/Paper', 'journal': None, 'abstract': None, 'inverted_abstract': False}\n",
      "{'title': 'Animal Models for Studying Triazole Resistance in Aspergillus fumigatus', 'doc_type': 'http://mag.graph/class/Paper', 'journal': 'http://mag.graph/entity/54542293', 'abstract': None, 'inverted_abstract': False}\n",
      "{'title': '&#x5341;&#x516D; &#x4E2D;&#x56FD;&#x5C55;&#x793A; &#x804C;&#x4E1A;&#x6280;&#x672F;&#x6559;&#x80B2;&#x5C55;&#x89C8;&#x53CA;&#x6587;&#x827A;&#x665A;&#x4F1A;&#x526A;&#x5F71;', 'doc_type': 'http://mag.graph/class/Paper', 'journal': None, 'abstract': None, 'inverted_abstract': False}\n",
      "{'title': 'Hospital-based case management.', 'doc_type': 'http://mag.graph/class/Paper', 'journal': 'http://mag.graph/entity/56918617', 'abstract': None, 'inverted_abstract': False}\n",
      "{'title': 'Effect of Histamine on &#x03B3;-Aminobutyric Acid-ergic Neuron of Hippecampus in Seizures Rats Induced by PTZ', 'doc_type': 'http://mag.graph/class/Paper', 'journal': 'http://mag.graph/entity/2764766624', 'abstract': None, 'inverted_abstract': False}\n",
      "{'title': '&#x878D;&#x5408;&#x201C;&#x529F;&#x80FD;&#x548C;&#x7BA1;&#x7406;&#x3001;&#x8BBE;&#x8BA1;&#x548C;&#x5DE5;&#x7A0B;&#x3001;&#x8FD0;&#x884C;&#x548C;&#x6548;&#x679C;&#x201D;&#x7684;&#x89C4;&#x8303;', 'doc_type': 'http://mag.graph/class/Paper', 'journal': None, 'abstract': None, 'inverted_abstract': False}\n",
      "{'title': 'Pose Evaluation Based on Bayesian Classification Error', 'doc_type': 'http://mag.graph/class/Paper', 'journal': None, 'abstract': None, 'inverted_abstract': False}\n",
      "{'title': 'Novel towards ear ware', 'doc_type': 'http://mag.graph/class/Paper', 'journal': None, 'abstract': None, 'inverted_abstract': False}\n",
      "{'title': 'Efectos de poscosecha que sufre la ca&#x00F1;a de az&#x00FA;car (saccharum officinarum l.) en la zona de abastecimiento del Ingenio Bellavista, Jalisco', 'doc_type': 'http://mag.graph/class/Paper', 'journal': None, 'abstract': None, 'inverted_abstract': False}\n",
      "{'title': 'Erfahrungen mit 200-KW-PACF-Anlagen in Deutschland', 'doc_type': 'http://mag.graph/class/Paper', 'journal': None, 'abstract': None, 'inverted_abstract': False}\n",
      "{'title': 'Pure nucleoside enantiomers of beta-2&#039;,3&#039;-dideoxycytidine analogs are selective inhibitors of hepatitis B virus in vitro.', 'doc_type': 'http://mag.graph/class/Paper', 'journal': 'http://mag.graph/entity/47215897', 'abstract': None, 'inverted_abstract': False}\n",
      "{'title': 'V. Heidelberger Kunstrechtstag: &quot;Kunsthandel - Kunstvertrieb&quot;', 'doc_type': 'http://mag.graph/class/Paper', 'journal': None, 'abstract': None, 'inverted_abstract': False}\n",
      "{'title': 'Tesiak euskaraz: harri kozkorrez beteriko bidezidorra', 'doc_type': 'http://mag.graph/class/Paper', 'journal': None, 'abstract': None, 'inverted_abstract': False}\n",
      "{'title': 'The Greater Cleveland Ethnographic Museum', 'doc_type': 'http://mag.graph/class/Paper', 'journal': None, 'abstract': None, 'inverted_abstract': False}\n",
      "{'title': 'Epidemiologia dei tumori ginecologici nella provincia di Sassari 1992-2000', 'doc_type': 'http://mag.graph/class/Paper', 'journal': None, 'abstract': None, 'inverted_abstract': False}\n",
      "{'title': '&#x8BBA;&#x8305;&#x76FE;&#x6587;&#x5B66;&#x5956;&#x7684;&#x201C;&#x73B0;&#x5B9E;&#x201D;&#x4E66;&#x5199;&#x53CA;&#x5176;&#x53CD;&#x601D;', 'doc_type': 'http://mag.graph/class/Paper', 'journal': None, 'abstract': None, 'inverted_abstract': False}\n",
      "{'title': 'The Shift of Neat to the Plains of Kochi', 'doc_type': 'http://mag.graph/class/Paper', 'journal': 'http://mag.graph/entity/2764805623', 'abstract': None, 'inverted_abstract': False}\n",
      "{'title': 'JUNOS Enterprise Switching', 'doc_type': 'http://mag.graph/class/Paper', 'journal': None, 'abstract': 'JUNOS Enterprise Switching is the only detailed technical book on Juniper Networks&#039; new Ethernet-switching EX product platform. With this book, you&#039;ll learn all about the hardware and ASIC design prowess of the EX platform, as well as the JUNOS Software that powers it. Not only is this extremely practical book a useful, hands-on manual to the EX platform, it also makes an excellent study guide for certification exams in the JNTCP enterprise tracks. The authors have based JUNOS Enterprise Switching on their own Juniper training practices and programs, as well as the configuration, maintenance, and troubleshooting guidelines they created for their bestselling companion book, JUNOS Enterprise Routing. Using a mix of test cases, case studies, use cases, and tangential answers to real-world problems, this book covers: * Enterprise switching and virtual LANs (VLANs) * The Spanning tree protocol and why it&#039;s needed * Inter-VLAN routing, including route tables and preferences * Routing policy and firewall filters * Switching security, such as DHCP snooping * Telephony integration, including VLAN voice Part of the Juniper Networks Technical Library , JUNOS Enterprise Switching provides all-inclusive coverage of the Juniper Networks EX product platform, including architecture and packet flow, management options, user interface options, and complete details on JUNOS switch deployment.', 'inverted_abstract': False}\n",
      "{'title': 'Ventilating channel structure on rotor of high-speed motor', 'doc_type': 'http://mag.graph/class/Paper', 'journal': None, 'abstract': None, 'inverted_abstract': False}\n",
      "{'title': 'Las empresas hoteleras de Baleares ante el medio ambiente: un an&#x00E1;lisis de sus posicionamientos', 'doc_type': 'http://mag.graph/class/Paper', 'journal': 'http://mag.graph/entity/2764650691', 'abstract': None, 'inverted_abstract': False}\n",
      "{'title': 'Effects of lipoic acid and a reduced-calorie diet on skin flap survival in a rat model.', 'doc_type': 'http://mag.graph/class/Paper', 'journal': 'http://mag.graph/entity/100736837', 'abstract': None, 'inverted_abstract': False}\n",
      "{'title': 'Shloss reaches settlement with Joyce estate.', 'doc_type': 'http://mag.graph/class/Paper', 'journal': 'http://mag.graph/entity/2764974664', 'abstract': None, 'inverted_abstract': False}\n",
      "{'title': 'A statistical study of heterogeneous nucleation of ice by molecular dynamics', 'doc_type': 'http://mag.graph/class/Paper', 'journal': 'http://mag.graph/entity/44567922', 'abstract': 'Abstract We studied the stochastic nature of heterogeneous nucleation of supercooled liquid water by molecular dynamics simulations. The systems were composed of 768 molecules; M of them had their positions restricted forming a solid nucleus ( IN M ) for M &#x00A0;=&#x00A0;48, 56, 64, 72, 80 and 90 molecules, and the rest were arranged in liquid state. By using a statistical analysis, we determined the nucleation rate ( j M ) for systems formed with IN 64 , IN 72 , IN 80 and IN 90 . These results are coherent with the stochastic hypothesis for heterogeneous nucleation and show a direct relationship between M and j M .', 'inverted_abstract': False}\n",
      "{'title': 'Blue-ray metal complex and organic electroluminescent device thereof', 'doc_type': 'http://mag.graph/class/Paper', 'journal': None, 'abstract': None, 'inverted_abstract': False}\n",
      "{'title': 'Fuel cell system with purging and method of operating the same', 'doc_type': 'http://mag.graph/class/Paper', 'journal': None, 'abstract': None, 'inverted_abstract': False}\n",
      "{'title': 'Nicht-toxische, bleifreie Z&#x00FC;ndmittelzusammensetzung Non-toxic, lead-free priming composition', 'doc_type': 'http://mag.graph/class/Paper', 'journal': None, 'abstract': None, 'inverted_abstract': False}\n",
      "{'title': 'ICE HEAT STORAGE TYPE AIR CONDITIONER', 'doc_type': 'http://mag.graph/class/Paper', 'journal': None, 'abstract': None, 'inverted_abstract': False}\n",
      "{'title': 'Hypertension art&#x00E9;rielle pulmonaire au cours de la scl&#x00E9;rodermie syst&#x00E9;mique', 'doc_type': 'http://mag.graph/class/Paper', 'journal': 'http://mag.graph/entity/6672359', 'abstract': 'Introduction Les connectivites representent desormais la seconde cause d&#x2019;hypertension arterielle pulmonaire (HTAP), apres la forme idiopathique. La sclerodermie systemique (Scs) est celle qui se complique le plus volontiers d&#x2019;HTAP. Le but de notre travail est de determiner les caracteristiques epidemiologiques, cliniques, therapeutiques, evolutives et pronostiques des HTAP chez les patients atteints de Scs. Methodes Il s&#x2019;agissait d&#x2019;une etude multicentrique retrospective, realisee dans 9&#x00A0;services de medecine interne en Tunisie, colligeant 152&#x00A0;patients. Le diagnostic de la Scs etait retenu selon criteres de l&#x2019;American Rhumatismal Association. L&#x2019;HTAP etait retenue chez 27&#x00A0;patients (26&#x00A0;%), chaque fois que la PAP moyenne etait superieure ou egale a 25&#x00A0;mmHg. Nous avons compare les patients ayant une Scs selon la presence (G1) et l&#x2019;absence d&#x2019;HTAP (G2). Resultats Il s&#x2019;agissait de 26&#x00A0;femmes et 1&#x00A0;homme (sex-ratio&#x00A0;=&#x00A0;0,03). L&#x2019;&#x00E2;ge moyen de survenu de HTAP etait de 49,1&#x00A0;ans. Le delai du diagnostic de la Scs etait de 5,5&#x00A0;ans en moyenne. La valeur mediane de la pression arterielle pulmonaire etait 42&#x00A0;mmHg (extremes&#x00A0;: 19&#x2013;87). L&#x2019;HTAP etait isolee dans 3&#x00A0;cas et associee a une pneumopathie interstitielle diffuse dans 10&#x00A0;cas avec un aspect en rayons de miel chez 8&#x00A0;patients et un aspect en verre depoli chez 6&#x00A0;autres. L&#x2019;etude comparative concluait que&#x00A0;: le delai diagnostic moyen de la maladie etait plus long chez les patients ayant une HTAP (5,9&#x00A0;vs 3,8&#x00A0;ans) sans que la difference ne soit statistiquement significative ( p &#x00A0;=&#x00A0;0,07). L&#x2019;atteinte pulmonaire, en particulier la PID etait significativement plus frequente dans le groupe ayant une HTAP (40&#x00A0;% vs 12,6&#x00A0;%) ( p &#x00A0;=&#x00A0;0,006). De meme, au scanner thoracique, l&#x2019;image en rayon de miel etait significativement plus frequente dans le premier groupe (30,8&#x00A0;% vs 4&#x00A0;%) ( p &#x00A0;=&#x00A0;0,001). Les mega capillaires a la capillaroscopie etaient significativement plus frequents (63&#x00A0;% vs 49&#x00A0;%) ( p &#x00A0;=&#x00A0;0,04). Cependant, les manifestations articulaires etaient moins frequentes (12,6&#x00A0;% vs 4&#x00A0;% et 83&#x00A0;% vs 63&#x00A0;%) avec une p &#x00A0;=&#x00A0;0,03. Le traitement faisait appel a des anticoagulants oraux dans 11&#x00A0;cas, des vasodilatateurs a type de prostacycline chez 3&#x00A0;patients et aux inhibiteurs des recepteurs de l&#x2019;endotheline dans 2&#x00A0;cas. Le pronostic etait plus mauvais chez le G1&#x00A0;avec un taux de mortalite plus important (20&#x00A0;% vs 8,8&#x00A0;%). Conclusion Une meilleure comprehension de la pathogenie de la vasculopathie sclerodermique permettra peut-etre un jour de depister et de prendre en charge precocement et convenablement cette complication.', 'inverted_abstract': False}\n",
      "{'title': 'Laparoscopic gastrojejunostomy technique: case report.', 'doc_type': 'http://mag.graph/class/Paper', 'journal': 'http://mag.graph/entity/2764908273', 'abstract': None, 'inverted_abstract': False}\n",
      "{'title': 'Evaluation of the cell-free mitochondrial DNA quantity in plasma as an aging biomarker candidate', 'doc_type': 'http://mag.graph/class/Paper', 'journal': None, 'abstract': None, 'inverted_abstract': False}\n",
      "{'title': 'Cultural heritage in context: the temples of Nubia, digital technologies and the future of conservation', 'doc_type': 'http://mag.graph/class/Paper', 'journal': 'http://mag.graph/entity/189009225', 'abstract': None, 'inverted_abstract': False}\n",
      "{'title': 'Phase relations and hydrogenation behavior of &#xFF08;La1-xMgx&#xFF09;3Al alloys', 'doc_type': 'http://mag.graph/class/Paper', 'journal': 'http://mag.graph/entity/172552266', 'abstract': None, 'inverted_abstract': False}\n",
      "{'title': 'When East meets West: gaze-contingent Blindspots abolish cultural diversity in eye movements for faces', 'doc_type': 'http://mag.graph/class/Paper', 'journal': 'http://mag.graph/entity/2502673154', 'abstract': 'Culture impacts on how people sample visual information for face processing. Westerners deploy fixations towards the eyes and the mouth to achieve face recognition. In contrast, Easterners reach equal performance by deploying more central fixations, suggesting an effective extrafoveal information use. However, this hypothesis has not been yet directly investigated, i.e. by providing only extrafoveal information to both groups of observers. We used a parametric gaze-contingent technique dynamically masking central vision - the Blindspot &#x2013; with Western and Eastern observers during face recognition. Westerners shifted progressively towards the typical Eastern central fixation pattern with larger Blindspots, whereas Easterners were insensitive to the Blindspots. These observations clearly show that Easterners preferentially sample information extrafoveally for faces. Conversely, the Western data also show that culturally-dependent visuo-motor strategies can flexibly adjust to constrained visual situations.', 'inverted_abstract': False}\n",
      "{'title': 'Suppressing the financing of terrorism', 'doc_type': 'http://mag.graph/class/Paper', 'journal': 'http://mag.graph/entity/986831709', 'abstract': None, 'inverted_abstract': False}\n",
      "{'title': 'Analysis of Empirical Multiple Linear Regression Models for the Production of PM2.5 Concentrations', 'doc_type': 'http://mag.graph/class/Paper', 'journal': None, 'abstract': None, 'inverted_abstract': False}\n",
      "{'title': '&#x0421;&#x0438;&#x0441;&#x0442;&#x0435;&#x043C;&#x0430; &#x0440;&#x0430;&#x0441;&#x043F;&#x0440;&#x043E;&#x0441;&#x0442;&#x0440;&#x0430;&#x043D;&#x0435;&#x043D;&#x0438;&#x044F; &#x0432;&#x0438;&#x0437;&#x0443;&#x0430;&#x043B;&#x044C;&#x043D;&#x043E;&#x0439; &#x0438;&#x043D;&#x0444;&#x043E;&#x0440;&#x043C;&#x0430;&#x0446;&#x0438;&#x0438;', 'doc_type': 'http://mag.graph/class/Paper', 'journal': None, 'abstract': None, 'inverted_abstract': False}\n",
      "{'title': 'Water vapor and surface observations in northwestern Mexico during the 2004 NAME Enhanced Observing Period', 'doc_type': 'http://mag.graph/class/Paper', 'journal': 'http://mag.graph/entity/36624081', 'abstract': None, 'inverted_abstract': False}\n",
      "{'title': 'Biomarkers alterations in trapezius muscle after an acute tissue trauma: A human microdialysis study', 'doc_type': 'http://mag.graph/class/Paper', 'journal': 'http://mag.graph/entity/69617268', 'abstract': None, 'inverted_abstract': False}\n",
      "{'title': 'Optimizing Feature Set for Speaker Verification', 'doc_type': 'http://mag.graph/class/Paper', 'journal': None, 'abstract': 'Abs t r ac t . This paper proposes a framework for the optimization of the feature set, in an HMM-based text-dependent speaker verification system, in which we distinguish the alignment task from the scoring task. The optimization is based on the search, among a set for potential features, for the feature subset that gives the minimal experimental Equal Error Rate. We have studied and compared various heuristics to fmd the optimal subset. We have also extended this optimization principle to the search for an optimal weighting of the different axes of the acoustic space. The optimal weighting was found by using a genetic algorithm. The proposed framework was applied to study cepstral coefficients and their first and second derivatives, in order to find a speaker and textindependent optimal feature set. Experiments were conducted on a large scale telephone database. The results indicate that the selection of an appropriate feature set, or the appropriate weighting of the features, could significantly improve verification performance, especially when little training data is available. Practically, it was found that cepstral coefficients of high order and first derivatives of all cepstral coefficients are the most useful for speaker verification.', 'inverted_abstract': False}\n",
      "{'title': '&#x57FA;&#x4E8E;CVaR-GARCH-GED&#x6CAA;&#x94DD;&#x671F;&#x8D27;&#x5408;&#x7EA6;&#x98CE;&#x9669;&#x4EF7;&#x503C;&#x5206;&#x6790;', 'doc_type': 'http://mag.graph/class/Paper', 'journal': None, 'abstract': None, 'inverted_abstract': False}\n",
      "{'title': 'Compresseur &#x00E0; vis &#x00E0; flux axial', 'doc_type': 'http://mag.graph/class/Paper', 'journal': None, 'abstract': None, 'inverted_abstract': False}\n",
      "{'title': 'Foreword to the Special Section on the IST 2006 IEEE International Workshop on Imaging Systems and Techniques', 'doc_type': 'http://mag.graph/class/Paper', 'journal': 'http://mag.graph/entity/10892749', 'abstract': 'The nine papers in this special section were originally presented at the IEEE International Imaging Systems and Techniques Workshop (IST 2006), held in Minori, Italy, on April 28-29, 2006.', 'inverted_abstract': False}\n",
      "{'title': 'Augenrefraktometer mit veraenderbarem Messbereich', 'doc_type': 'http://mag.graph/class/Paper', 'journal': None, 'abstract': None, 'inverted_abstract': False}\n",
      "{'title': 'SST spatial anisotropic covariances from METOP-AVHRR data', 'doc_type': 'http://mag.graph/class/Paper', 'journal': 'http://mag.graph/entity/141808269', 'abstract': None, 'inverted_abstract': False}\n",
      "{'title': 'MINERAL CONSTITUENTS OF THE WATERMELON.', 'doc_type': 'http://mag.graph/class/Paper', 'journal': 'http://mag.graph/entity/111155417', 'abstract': None, 'inverted_abstract': False}\n",
      "{'title': 'EMG Analysis in Individuals with Chronic Ankle Instability during the Star Excursion Balance Test: 2427', 'doc_type': 'http://mag.graph/class/Paper', 'journal': 'http://mag.graph/entity/14544163', 'abstract': None, 'inverted_abstract': False}\n",
      "{'title': 'Principles of Treatment of Malaria.', 'doc_type': 'http://mag.graph/class/Paper', 'journal': None, 'abstract': None, 'inverted_abstract': False}\n",
      "{'title': 'A probabilistic approach to restoration of distribution system using expert systems', 'doc_type': 'http://mag.graph/class/Paper', 'journal': 'http://mag.graph/entity/2764443690', 'abstract': None, 'inverted_abstract': False}\n",
      "{'title': 'Girl child labour (worker) : their nutrition, health, education and rehabilitation', 'doc_type': 'http://mag.graph/class/Paper', 'journal': 'http://mag.graph/entity/2764656982', 'abstract': None, 'inverted_abstract': False}\n",
      "{'title': 'Cuerpo privado, imagen p&#x00FA;blica: el autorretrato en la pr&#x00E1;ctica de la fotograf&#x00ED;a digital', 'doc_type': 'http://mag.graph/class/Paper', 'journal': 'http://mag.graph/entity/11056413', 'abstract': 'This paper show some thoughts about the self-portrait as an extended practice on the Internet, not only as a representation of users of Social Network Sites (profile pictures for example) but also as a creative and playful self-reflective practice on the self, the body and the personal identity. To some authors, the practice of self-portraits is related to control forms and empowerment, in particular, the self-portraits made by women. For other authors, it seems to be the popularisation of a practice previously reserved to artists, while others point to the therapeutic and personal transformation powers of the selfportrait. What seems to be undoubted is the relationship between the self-portrait and the everyday narratives of the self and, on the Internet, this personal and intimate practice becomes public and even creates an audience. In this sense, the self-portrait could be understood as a new cultural form of self-presentation that could be understood as both, the public performance of the personal identity and the result of a performative practice with the own body.', 'inverted_abstract': False}\n",
      "{'title': 'Circuits Under Test', 'doc_type': 'http://mag.graph/class/Paper', 'journal': None, 'abstract': None, 'inverted_abstract': False}\n",
      "{'title': 'Die optischen Eigenschaften einiger Andesine', 'doc_type': 'http://mag.graph/class/Paper', 'journal': None, 'abstract': None, 'inverted_abstract': False}\n",
      "{'title': 'Fibroblast proliferation in vitro in response to bronchoalveolar lavage fluid', 'doc_type': 'http://mag.graph/class/Paper', 'journal': 'http://mag.graph/entity/137670264', 'abstract': None, 'inverted_abstract': False}\n",
      "{'title': 'MECHANISM FOR PREVENTING DETONATION IN GAS COMBUSTION PIPING SYSTEM', 'doc_type': 'http://mag.graph/class/Paper', 'journal': None, 'abstract': None, 'inverted_abstract': False}\n",
      "{'title': 'Characteristic influence of trifluoroacetic acid on the chemical shift on the signal of a proton geminal to an OH group', 'doc_type': 'http://mag.graph/class/Paper', 'journal': 'http://mag.graph/entity/55509983', 'abstract': None, 'inverted_abstract': False}\n",
      "{'title': 'Storytelling: Random walk or competencies driven career?', 'doc_type': 'http://mag.graph/class/Paper', 'journal': None, 'abstract': None, 'inverted_abstract': False}\n",
      "{'title': 'ROLE OF RESIDENT ATTITUDES IN LEARNING AND USING SKILLS IN PATIENT-CENTERED INTERVIEWING', 'doc_type': 'http://mag.graph/class/Paper', 'journal': None, 'abstract': None, 'inverted_abstract': False}\n",
      "{'title': 'Thermosetting resin transfer molding process', 'doc_type': 'http://mag.graph/class/Paper', 'journal': None, 'abstract': 'A method of resin transfer molding with a thermoset resin material and including the steps of forming a mold defining a cavity, communicating a hollow sprue with the mold cavity, filling the mold cavity and the sprue with unpolymerized resin and catalyst mixture under pressure, refrigerating the sprue adjacent to the mold cavity so as to delay polymerization of the resin in the sprue to maintain a pressure path through the sprue to the mold cavity during the continued application of pressurized mixture to the sprue, and maintaining the refrigerating of the mixture in the sprue until after at least commencement of polymerization of the resin in the mold cavity to form a molded part.', 'inverted_abstract': False}\n",
      "{'title': 'Contraction Coupling in Colonic Smooth Muscle', 'doc_type': 'http://mag.graph/class/Paper', 'journal': 'http://mag.graph/entity/196366644', 'abstract': None, 'inverted_abstract': False}\n",
      "{'title': 'THE STUDY OF PHOTOELECTROCHEHICAL CELLS BASED ON CHLOROPHYLL AND ORGANIC DYES', 'doc_type': 'http://mag.graph/class/Paper', 'journal': None, 'abstract': None, 'inverted_abstract': False}\n",
      "{'title': 'Clinical and Radiological Features in Liver Abscess Patients, 2009-2012', 'doc_type': 'http://mag.graph/class/Paper', 'journal': None, 'abstract': None, 'inverted_abstract': False}\n",
      "{'title': 'La conscience de soi peut-elle devenir un obstacle pour l&#039;acti...', 'doc_type': 'http://mag.graph/class/Paper', 'journal': None, 'abstract': None, 'inverted_abstract': False}\n",
      "{'title': 'Integrated billing apparatus and method by real-time session management in organic-wireless integrated service network', 'doc_type': 'http://mag.graph/class/Paper', 'journal': None, 'abstract': None, 'inverted_abstract': False}\n",
      "{'title': 'The Change of American and Chinese Military Strategies and the Korean Response', 'doc_type': 'http://mag.graph/class/Paper', 'journal': 'http://mag.graph/entity/2764424929', 'abstract': None, 'inverted_abstract': False}\n",
      "{'title': 'Study on the relationship between resistin and its related factors and development of regression equation in type 2 diabetes mellitus', 'doc_type': 'http://mag.graph/class/Paper', 'journal': 'http://mag.graph/entity/2755566853', 'abstract': None, 'inverted_abstract': False}\n",
      "{'title': 'Piezoelectric resonator mountings', 'doc_type': 'http://mag.graph/class/Paper', 'journal': None, 'abstract': None, 'inverted_abstract': False}\n",
      "{'title': '&#x682A;&#x5F0F;&#x4F1A;&#x793E;&#x30DB;&#x30FC;&#x30C1;&#x30AD;&#x30E1;&#x30F3;&#x30C6;&#x30CA;&#x30F3;&#x30B9;&#x30BB;&#x30F3;&#x30BF;&#x30FC;&#x306B;&#x5BFE;&#x3059;&#x308B;&#x52E7;&#x544A;&#x306B;&#x3064;&#x3044;&#x3066; (&#x7279;&#x96C6; &#x4E0B;&#x8ACB;&#x6CD5;&#x306E;&#x4ECA;&#x65E5;&#x7684;&#x8AB2;&#x984C;)', 'doc_type': 'http://mag.graph/class/Paper', 'journal': None, 'abstract': None, 'inverted_abstract': False}\n",
      "{'title': 'Bemerkungen Zum R&#x00F6;mischen Quirinl1Skult 1)', 'doc_type': 'http://mag.graph/class/Paper', 'journal': 'http://mag.graph/entity/166779601', 'abstract': None, 'inverted_abstract': False}\n",
      "{'title': 'Contaminaci&#x00F3;n de harina de ma&#x00ED;z con ocratoxina A, aflatocinas y zearalenona', 'doc_type': 'http://mag.graph/class/Paper', 'journal': 'http://mag.graph/entity/2764436001', 'abstract': None, 'inverted_abstract': False}\n",
      "{'title': 'A/B/C PHASE DETERMINATION AND SYNCHROPHASOR MEASUREMENT USING COMMON ELECTRIC SMART METERS AND WIRELESS COMMUNICATIONS', 'doc_type': 'http://mag.graph/class/Paper', 'journal': None, 'abstract': None, 'inverted_abstract': False}\n",
      "{'title': 'Correlations of Portal Pressure In Benign Biliary Stricture', 'doc_type': 'http://mag.graph/class/Paper', 'journal': 'http://mag.graph/entity/2764866434', 'abstract': None, 'inverted_abstract': False}\n",
      "{'title': 'Trennwandeinsatz f&#x00FC;r einen verbrennungsmotor Partition insert for an internal combustion engine', 'doc_type': 'http://mag.graph/class/Paper', 'journal': None, 'abstract': None, 'inverted_abstract': False}\n",
      "{'title': 'Granulomatous hypophysitis: rare disease with challenging diagnosis', 'doc_type': 'http://mag.graph/class/Paper', 'journal': 'http://mag.graph/entity/2737168579', 'abstract': None, 'inverted_abstract': False}\n",
      "{'title': 'Acupressure health-caring clothing', 'doc_type': 'http://mag.graph/class/Paper', 'journal': None, 'abstract': None, 'inverted_abstract': False}\n",
      "{'title': 'The current progress and future prospects of personalized radiogenomic cancer study', 'doc_type': 'http://mag.graph/class/Paper', 'journal': 'http://mag.graph/entity/5240358', 'abstract': None, 'inverted_abstract': False}\n",
      "{'title': 'Grignard processes with increased content of diphenylchlorosilanes', 'doc_type': 'http://mag.graph/class/Paper', 'journal': None, 'abstract': None, 'inverted_abstract': False}\n",
      "{'title': 'Recent improvements in Galerkin and upwind Euler solvers and application to 3-D transonic flow in aircraft design', 'doc_type': 'http://mag.graph/class/Paper', 'journal': 'http://mag.graph/entity/40006715', 'abstract': None, 'inverted_abstract': False}\n",
      "{'title': 'Mittlere Kurven der elfj&#x00E4;hrigen und achtzigj&#x00E4;hrigen Zyklen der Sonnent&#x00E4;tigkeit', 'doc_type': 'http://mag.graph/class/Paper', 'journal': 'http://mag.graph/entity/173695690', 'abstract': None, 'inverted_abstract': False}\n",
      "{'title': '15. STATE COLLEGES AND UNIVERSITIES', 'doc_type': 'http://mag.graph/class/Paper', 'journal': None, 'abstract': None, 'inverted_abstract': False}\n",
      "{'title': 'Charter&#039;s turnaround of former NME hospitals off to shaky start.', 'doc_type': 'http://mag.graph/class/Paper', 'journal': 'http://mag.graph/entity/2751149461', 'abstract': None, 'inverted_abstract': False}\n",
      "{'title': 'Hydraulic pressure station of full aluminium alloy structure', 'doc_type': 'http://mag.graph/class/Paper', 'journal': None, 'abstract': None, 'inverted_abstract': False}\n",
      "{'title': '[Mediastinoscopy, an accurate method in the diagnosis of diseases of the lungs and mediastinum].', 'doc_type': 'http://mag.graph/class/Paper', 'journal': None, 'abstract': None, 'inverted_abstract': False}\n"
     ]
    }
   ],
   "source": [
    "import time\n",
    "import multiprocessing as mp\n",
    "import mag_functions as F\n",
    "\n",
    "# Given each paper and respective information, fetch proper concept tags\n",
    "for paper in papers_result:\n",
    "    information = {\n",
    "        \"title\": papers_result[paper].get('http://purl.org/dc/terms/title'),\n",
    "        \"doc_type\": papers_result[paper].get('http://www.w3.org/1999/02/22-rdf-syntax-ns#type'),\n",
    "        \"journal\": papers_result[paper].get('http://mag.graph/property/appearsInJournal'),\n",
    "        \"abstract\": papers_result[paper].get('abstract'),\n",
    "        \"inverted_abstract\": False\n",
    "    }\n",
    "\n",
    "    try:\n",
    "        start_time = time.time()\n",
    "        results = F.get_tags([input_json[count]], 1)[1][0]\n",
    "        results['time'] = time.time() - start_time\n",
    "    except:\n",
    "        results = {\"tags\": None, \"scores\": None, \"tag_ids\": None}\n",
    "\n",
    "    papers_result[paper]['results'] = results\n"
   ]
  },
  {
   "cell_type": "code",
   "execution_count": 100,
   "id": "843267d5",
   "metadata": {},
   "outputs": [],
   "source": []
  },
  {
   "cell_type": "code",
   "execution_count": 101,
   "id": "da54a95c",
   "metadata": {},
   "outputs": [
    {
     "name": "stdout",
     "output_type": "stream",
     "text": [
      "[rdflib.term.URIRef('http://mag.graph/entity/21774173'), rdflib.term.URIRef('http://mag.graph/entity/178790620'), rdflib.term.URIRef('http://mag.graph/entity/201194858'), rdflib.term.URIRef('http://mag.graph/entity/179104552'), rdflib.term.URIRef('http://mag.graph/entity/41339378'), rdflib.term.URIRef('http://mag.graph/entity/85551212'), rdflib.term.URIRef('http://mag.graph/entity/2778695967')]\n"
     ]
    }
   ],
   "source": []
  },
  {
   "cell_type": "code",
   "execution_count": 96,
   "id": "82bbbdac",
   "metadata": {},
   "outputs": [
    {
     "name": "stdout",
     "output_type": "stream",
     "text": [
      "[rdflib.term.URIRef('http://mag.graph/entity/1997309520')]\n"
     ]
    }
   ],
   "source": []
  },
  {
   "cell_type": "code",
   "execution_count": null,
   "id": "6f25c547",
   "metadata": {},
   "outputs": [],
   "source": []
  }
 ],
 "metadata": {
  "kernelspec": {
   "display_name": "Python 3 (ipykernel)",
   "language": "python",
   "name": "python3"
  },
  "language_info": {
   "codemirror_mode": {
    "name": "ipython",
    "version": 3
   },
   "file_extension": ".py",
   "mimetype": "text/x-python",
   "name": "python",
   "nbconvert_exporter": "python",
   "pygments_lexer": "ipython3",
   "version": "3.9.16"
  }
 },
 "nbformat": 4,
 "nbformat_minor": 5
}
